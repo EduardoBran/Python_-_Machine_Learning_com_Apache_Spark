{
 "cells": [
  {
   "cell_type": "markdown",
   "id": "d584f94f",
   "metadata": {},
   "source": [
    "<span style=\"color: green; font-size: 40px; font-weight: bold;\">Lab 5 (Clusterização (Agrupamento)) </span>\n",
    "\n",
    "<br> <br>\n",
    "\n",
    "# Agrupando Veículos Por Similaridade\n",
    "\n",
    "<br>\n",
    "\n",
    "### Contexto\n",
    "\n",
    "Neste projeto, abordaremos uma aplicação prática de técnicas de aprendizado não supervisionado, especificamente a **clusterização de veículos** com base em suas características. Diferente de problemas supervisionados, onde as respostas corretas são conhecidas e usadas para treinar o modelo, aqui o objetivo é descobrir grupos naturais ou clusters nos dados. Através deste processo, pretendemos identificar padrões e agrupamentos de veículos que compartilham características similares, como tipo de combustível, número de portas, tipo de direção, potência, consumo de combustível, entre outros. Esta técnica é útil em diversos contextos, como segmentação de mercado, identificação de perfis de clientes, e análise de produtos.\n",
    "\n",
    "<br>\n",
    "\n",
    "### Objetivo\n",
    "\n",
    "O objetivo deste projeto é **agrupar veículos em clusters com base em suas características similares**. Utilizando um algoritmo de aprendizado não supervisionado, como o K-means, o modelo analisará os dados de entrada e identificará grupos de veículos que compartilham características comuns, sem a necessidade de rótulos predefinidos.\n",
    "\n",
    "<br>\n",
    "\n",
    "### Pergunta de Negócio Principal\n",
    "\n",
    "> \"Como podemos agrupar veículos de acordo com suas características para identificar grupos de similaridade?\"\n",
    "\n",
    "<br>\n",
    "\n",
    "### Entregável\n",
    "\n",
    "O entregável deste projeto será uma **análise de agrupamento (clusterização) de veículos**, onde veículos similares serão agrupados em clusters. Esses clusters podem ser usados para diversas finalidades, como identificar segmentos de mercado, definir estratégias de marketing ou até mesmo analisar padrões de fabricação e consumo. O projeto incluirá a preparação dos dados, a escolha do algoritmo de clusterização, a execução do modelo e a interpretação dos resultados.\n",
    "\n",
    "<br>\n",
    "\n",
    "### Sobre o Conjunto de Dados\n",
    "\n",
    "Os dados utilizados neste projeto contêm várias características dos veículos, incluindo fabricante, tipo de combustível, número de portas, tipo de direção, número de cilindros, potência, consumo de combustível na cidade e na estrada, e preço. Estes atributos servirão como base para identificar similaridades e agrupar os veículos.\n",
    "\n",
    "<br>\n",
    "\n",
    "<table border=\"2\">\n",
    "  <tr>\n",
    "    <th style=\"text-align: center; font-size: 16px;\">Nome da Coluna</th>\n",
    "    <th style=\"text-align: center; font-size: 16px;\">Tipo de Dado</th>\n",
    "    <th style=\"text-align: center; font-size: 16px;\">Descrição</th>\n",
    "  </tr>\n",
    "  <tr>\n",
    "    <td>fabricante</td>\n",
    "    <td>string</td>\n",
    "    <td>Nome do fabricante do veículo.</td>\n",
    "  </tr>\n",
    "  <tr>\n",
    "    <td>tipo_combustivel</td>\n",
    "    <td>string</td>\n",
    "    <td>Tipo de combustível utilizado pelo veículo (gasolina, diesel, etc.).</td>\n",
    "  </tr>\n",
    "  <tr>\n",
    "    <td>aspirado</td>\n",
    "    <td>string</td>\n",
    "    <td>Indicação se o motor é aspirado ou não.</td>\n",
    "  </tr>\n",
    "  <tr>\n",
    "    <td>portas</td>\n",
    "    <td>integer</td>\n",
    "    <td>Número de portas do veículo.</td>\n",
    "  </tr>\n",
    "  <tr>\n",
    "    <td>tipo</td>\n",
    "    <td>string</td>\n",
    "    <td>Tipo de carroceria do veículo (hatchback, sedan, etc.).</td>\n",
    "  </tr>\n",
    "  <tr>\n",
    "    <td>direcao</td>\n",
    "    <td>string</td>\n",
    "    <td>Tipo de direção do veículo (traseira, dianteira, etc.).</td>\n",
    "  </tr>\n",
    "  <tr>\n",
    "    <td>cilindros</td>\n",
    "    <td>integer</td>\n",
    "    <td>Número de cilindros do motor.</td>\n",
    "  </tr>\n",
    "  <tr>\n",
    "    <td>horsepower</td>\n",
    "    <td>integer</td>\n",
    "    <td>Potência do motor, medida em cavalos de força.</td>\n",
    "  </tr>\n",
    "  <tr>\n",
    "    <td>rpm</td>\n",
    "    <td>integer</td>\n",
    "    <td>Rotações por minuto (RPM) em que a potência máxima é alcançada.</td>\n",
    "  </tr>\n",
    "  <tr>\n",
    "    <td>consumo_cidade</td>\n",
    "    <td>integer</td>\n",
    "    <td>Consumo de combustível na cidade (milhas por galão).</td>\n",
    "  </tr>\n",
    "  <tr>\n",
    "    <td>consumo_estrada</td>\n",
    "    <td>integer</td>\n",
    "    <td>Consumo de combustível na estrada (milhas por galão).</td>\n",
    "  </tr>\n",
    "  <tr>\n",
    "    <td>preco</td>\n",
    "    <td>integer</td>\n",
    "    <td>Preço do veículo em dólares.</td>\n",
    "  </tr>\n",
    "</table>\n",
    "\n",
    "<br><br><br>\n",
    "\n",
    "# Importando Pacotes"
   ]
  },
  {
   "cell_type": "code",
   "execution_count": 1,
   "id": "847ecb92",
   "metadata": {},
   "outputs": [
    {
     "ename": "RuntimeError",
     "evalue": "module was compiled against NumPy C-API version 0x10 (NumPy 1.23) but the running NumPy has C-API version 0xf. Check the section C-API incompatibility at the Troubleshooting ImportError section at https://numpy.org/devdocs/user/troubleshooting-importerror.html#c-api-incompatibility for indications on how to solve this problem.",
     "output_type": "error",
     "traceback": [
      "\u001b[0;31m---------------------------------------------------------------------------\u001b[0m",
      "\u001b[0;31mRuntimeError\u001b[0m                              Traceback (most recent call last)",
      "\u001b[0;31mRuntimeError\u001b[0m: module was compiled against NumPy C-API version 0x10 (NumPy 1.23) but the running NumPy has C-API version 0xf. Check the section C-API incompatibility at the Troubleshooting ImportError section at https://numpy.org/devdocs/user/troubleshooting-importerror.html#c-api-incompatibility for indications on how to solve this problem."
     ]
    }
   ],
   "source": [
    "# Importa o findspark e inicializa\n",
    "import findspark\n",
    "findspark.init()\n",
    "\n",
    "# Imports\n",
    "import numpy as np\n",
    "from pyspark import SparkContext, SparkConf\n",
    "from pyspark.sql import SparkSession\n",
    "import pandas as pd\n",
    "from pyspark.sql import Row\n",
    "from pyspark.ml.linalg import Vectors\n",
    "from pyspark.ml.clustering import KMeans\n",
    "import matplotlib.pylab as plt\n",
    "%matplotlib inline"
   ]
  },
  {
   "cell_type": "markdown",
   "id": "c985b686",
   "metadata": {},
   "source": [
    "<br> <br>\n",
    "\n",
    "# <span style=\"color: green; font-size: 38px; font-weight: bold;\">Preparando o Ambiente Spark</span>"
   ]
  },
  {
   "cell_type": "code",
   "execution_count": 2,
   "id": "d1b8f745",
   "metadata": {},
   "outputs": [
    {
     "name": "stderr",
     "output_type": "stream",
     "text": [
      "24/08/12 12:29:33 WARN Utils: Your hostname, eduardo-Inspiron-15-3520 resolves to a loopback address: 127.0.1.1; using 192.168.0.13 instead (on interface wlp0s20f3)\n",
      "24/08/12 12:29:33 WARN Utils: Set SPARK_LOCAL_IP if you need to bind to another address\n",
      "Setting default log level to \"WARN\".\n",
      "To adjust logging level use sc.setLogLevel(newLevel). For SparkR, use setLogLevel(newLevel).\n",
      "24/08/12 12:29:34 WARN NativeCodeLoader: Unable to load native-hadoop library for your platform... using builtin-java classes where applicable\n",
      "24/08/12 12:29:34 WARN Utils: Service 'SparkUI' could not bind on port 4040. Attempting port 4041.\n"
     ]
    },
    {
     "data": {
      "text/html": [
       "\n",
       "            <div>\n",
       "                <p><b>SparkSession - in-memory</b></p>\n",
       "                \n",
       "        <div>\n",
       "            <p><b>SparkContext</b></p>\n",
       "\n",
       "            <p><a href=\"http://192.168.0.13:4041\">Spark UI</a></p>\n",
       "\n",
       "            <dl>\n",
       "              <dt>Version</dt>\n",
       "                <dd><code>v3.5.1</code></dd>\n",
       "              <dt>Master</dt>\n",
       "                <dd><code>local[*]</code></dd>\n",
       "              <dt>AppName</dt>\n",
       "                <dd><code>Lab5</code></dd>\n",
       "            </dl>\n",
       "        </div>\n",
       "        \n",
       "            </div>\n",
       "        "
      ],
      "text/plain": [
       "<pyspark.sql.session.SparkSession at 0x7f638e3e4550>"
      ]
     },
     "execution_count": 2,
     "metadata": {},
     "output_type": "execute_result"
    }
   ],
   "source": [
    "# Definindo semente aleatória (seed) para reprodutibilidade do notebook\n",
    "rnd_seed = 23\n",
    "np.random.seed = rnd_seed\n",
    "np.random.set_state = rnd_seed\n",
    "\n",
    "# Se houver uma sessão Spark ativa, encerre-a\n",
    "if 'sc' in globals():\n",
    "    sc.stop()\n",
    "\n",
    "if 'spark' in globals():\n",
    "    spark.stop()\n",
    "\n",
    "\n",
    "# Criando o Spark Context\n",
    "conf = SparkConf().setAppName(\"Lab5\") \\\n",
    "                  .set(\"spark.ui.showConsoleProgress\", \"false\") \\\n",
    "                  .set(\"spark.executor.heartbeatInterval\", \"20s\") \\\n",
    "                  .set(\"spark.eventLog.enabled\", \"false\") \\\n",
    "                  .set(\"spark.sql.shuffle.partitions\", \"2\") \\\n",
    "                  .set(\"spark.sql.debug.maxToStringFields\", \"100\") \\\n",
    "                  .set(\"spark.executor.memory\", \"4g\") \\\n",
    "                  .set(\"spark.driver.memory\", \"4g\") \\\n",
    "                  .set(\"spark.driver.maxResultSize\", \"2g\")  # Configuração adicional para limitar o tamanho do resultado\n",
    "\n",
    "# Criar o Spark Context e a Spark Session\n",
    "sc = SparkContext(conf=conf)\n",
    "spSession = SparkSession.builder.config(conf=conf).getOrCreate()\n",
    "\n",
    "# Ajustar o nível de log para ERROR\n",
    "sc.setLogLevel(\"ERROR\")\n",
    "\n",
    "# Configurar log4j para suprimir avisos (deixar como comentário e volta ao normal)\n",
    "log4j_logger = sc._jvm.org.apache.log4j\n",
    "log4j_logger.LogManager.getLogger(\"org\").setLevel(log4j_logger.Level.ERROR)\n",
    "log4j_logger.LogManager.getLogger(\"akka\").setLevel(log4j_logger.Level.ERROR)\n",
    "\n",
    "# Visualizar o objeto spark_session\n",
    "spSession"
   ]
  },
  {
   "cell_type": "markdown",
   "id": "6bb531be",
   "metadata": {},
   "source": [
    "<br><br>\n",
    "\n",
    "# <span style=\"color: green; font-size: 38px; font-weight: bold;\">Carregando os Dados</span>\n",
    "\n",
    "- Os dados serão carregados a partir de um arquivo CSV e gerados como um RDD (Resilient Distributed Dataset) no Apache Spark. O RDD é uma estrutura de dados distribuída que permite o processamento paralelo em um cluster, otimizando a performance."
   ]
  },
  {
   "cell_type": "code",
   "execution_count": 3,
   "id": "91d997ee",
   "metadata": {},
   "outputs": [
    {
     "name": "stdout",
     "output_type": "stream",
     "text": [
      "<class 'pyspark.rdd.RDD'> \n",
      "\n",
      "Lab/dados/dataset5.csv MapPartitionsRDD[1] at textFile at NativeMethodAccessorImpl.java:0 \n",
      "\n",
      "198 \n",
      "\n"
     ]
    }
   ],
   "source": [
    "# Carregando os dados e gerando um RDD\n",
    "carrosRDD = sc.textFile(\"Lab/dados/dataset5.csv\")\n",
    "\n",
    "# Tipo\n",
    "print(type(carrosRDD), '\\n')\n",
    "\n",
    "# Colocando o RDD em cache. Esse processo otimiza a performance\n",
    "print(carrosRDD.cache(), '\\n')\n",
    "\n",
    "# Número de registros\n",
    "print(carrosRDD.count(), '\\n')"
   ]
  },
  {
   "cell_type": "code",
   "execution_count": 4,
   "id": "2703df3a",
   "metadata": {},
   "outputs": [
    {
     "name": "stdout",
     "output_type": "stream",
     "text": [
      "['fabricante,tipo_combustivel,aspirado,portas,tipo,direcao,cilindros,horsepower,rpm,consumo_cidade,consumo_estrada,preco', 'subaru,gas,std,two,hatchback,fwd,four,69,4900,31,36,5118', 'chevrolet,gas,std,two,hatchback,fwd,three,48,5100,47,53,5151', 'mazda,gas,std,two,hatchback,fwd,four,68,5000,30,31,5195', 'toyota,gas,std,two,hatchback,fwd,four,62,4800,35,39,5348']\n"
     ]
    }
   ],
   "source": [
    "# Visualizando as primeiras linhas\n",
    "print(carrosRDD.take(5))"
   ]
  },
  {
   "cell_type": "code",
   "execution_count": 5,
   "id": "a864452c",
   "metadata": {},
   "outputs": [
    {
     "data": {
      "text/html": [
       "<div>\n",
       "<style scoped>\n",
       "    .dataframe tbody tr th:only-of-type {\n",
       "        vertical-align: middle;\n",
       "    }\n",
       "\n",
       "    .dataframe tbody tr th {\n",
       "        vertical-align: top;\n",
       "    }\n",
       "\n",
       "    .dataframe thead th {\n",
       "        text-align: right;\n",
       "    }\n",
       "</style>\n",
       "<table border=\"1\" class=\"dataframe\">\n",
       "  <thead>\n",
       "    <tr style=\"text-align: right;\">\n",
       "      <th></th>\n",
       "      <th>fabricante,tipo_combustivel,aspirado,portas,tipo,direcao,cilindros,horsepower,rpm,consumo_cidade,consumo_estrada,preco</th>\n",
       "    </tr>\n",
       "  </thead>\n",
       "  <tbody>\n",
       "    <tr>\n",
       "      <th>0</th>\n",
       "      <td>subaru,gas,std,two,hatchback,fwd,four,69,4900,...</td>\n",
       "    </tr>\n",
       "    <tr>\n",
       "      <th>1</th>\n",
       "      <td>chevrolet,gas,std,two,hatchback,fwd,three,48,5...</td>\n",
       "    </tr>\n",
       "    <tr>\n",
       "      <th>2</th>\n",
       "      <td>mazda,gas,std,two,hatchback,fwd,four,68,5000,3...</td>\n",
       "    </tr>\n",
       "    <tr>\n",
       "      <th>3</th>\n",
       "      <td>toyota,gas,std,two,hatchback,fwd,four,62,4800,...</td>\n",
       "    </tr>\n",
       "  </tbody>\n",
       "</table>\n",
       "</div>"
      ],
      "text/plain": [
       "  fabricante,tipo_combustivel,aspirado,portas,tipo,direcao,cilindros,horsepower,rpm,consumo_cidade,consumo_estrada,preco\n",
       "0  subaru,gas,std,two,hatchback,fwd,four,69,4900,...                                                                    \n",
       "1  chevrolet,gas,std,two,hatchback,fwd,three,48,5...                                                                    \n",
       "2  mazda,gas,std,two,hatchback,fwd,four,68,5000,3...                                                                    \n",
       "3  toyota,gas,std,two,hatchback,fwd,four,62,4800,...                                                                    "
      ]
     },
     "metadata": {},
     "output_type": "display_data"
    }
   ],
   "source": [
    "## Visualizando primeiras 4 linhas com Pandas (Apenas para visualização)\n",
    "\n",
    "import pandas as pd\n",
    "\n",
    "# Obter as primeiras 5 linhas do RDD\n",
    "linhas = carrosRDD.take(5)\n",
    "\n",
    "# Dividir as linhas em colunas utilizando o ponto-e-vírgula como delimitador\n",
    "colunas = linhas[0].split(\";\")\n",
    "dados_formatados = [linha.split(\";\") for linha in linhas[1:]]\n",
    "\n",
    "# Criar um DataFrame Pandas com as colunas e os dados formatados\n",
    "df = pd.DataFrame(dados_formatados, columns=colunas)\n",
    "\n",
    "# Mostrar o DataFrame\n",
    "display(df)"
   ]
  },
  {
   "cell_type": "markdown",
   "id": "bc7328d1",
   "metadata": {},
   "source": [
    "<br><br><br>\n",
    "\n",
    "# <span style=\"color: green; font-size: 38px; font-weight: bold;\"> Análise Exploratória Inicial dos Dados </span>\n",
    "\n",
    "<br>\n",
    "\n",
    "### Criação de Função Para Análise Inicial"
   ]
  },
  {
   "cell_type": "code",
   "execution_count": 6,
   "id": "e36ca859",
   "metadata": {},
   "outputs": [
    {
     "name": "stdout",
     "output_type": "stream",
     "text": [
      "A função foi criada com sucesso.\n"
     ]
    }
   ],
   "source": [
    "import pandas as pd\n",
    "import re\n",
    "\n",
    "def funcao_analise_inicial(df):\n",
    "    # Configurar Pandas para exibir todas as linhas\n",
    "    pd.set_option('display.max_rows', None)\n",
    "\n",
    "    # Informações do DataFrame\n",
    "    print('\\n\\n INFO \\n\\n')\n",
    "    df.info()\n",
    "    print('\\n\\n ------------------------------------------------------------------------------------------ \\n\\n')\n",
    "\n",
    "    # Verifica se há valores ausentes e duplicados\n",
    "    valores_ausentes = df.isna().sum().sum() > 0\n",
    "    valores_duplicados = df.duplicated().sum() > 0\n",
    "\n",
    "    # Nomes das variáveis com valores ausentes\n",
    "    variaveis_ausentes = df.columns[df.isna().any()].tolist()\n",
    "\n",
    "    # Número de linhas duplicadas\n",
    "    num_linhas_duplicadas = df.duplicated().sum()\n",
    "\n",
    "    # Porcentagem de linhas duplicadas\n",
    "    porcentagem_linhas_duplicadas = (num_linhas_duplicadas / len(df)) * 100\n",
    "\n",
    "    # Exibe o resultado sobre valores ausentes e duplicados\n",
    "    print(\"\\n\\nExistem valores ausentes:\", valores_ausentes)\n",
    "    if valores_ausentes:\n",
    "        print(\"\\nVariáveis com valores ausentes:\", variaveis_ausentes)\n",
    "    else:\n",
    "        print(\"\\nNenhuma variável possui valores ausentes.\")\n",
    "\n",
    "    print(\"\\n\\nExistem valores duplicados:\", valores_duplicados)\n",
    "    if valores_duplicados:\n",
    "        print(\"\\nNúmero de Linhas Duplicadas:\", num_linhas_duplicadas)\n",
    "        print(\"\\nPorcentagem de Linhas Duplicadas: {:.2f}%\".format(porcentagem_linhas_duplicadas))\n",
    "    else:\n",
    "        print(\"\\nNenhuma variável possui valores duplicados.\")\n",
    "    \n",
    "    # Verificação de caracteres especiais\n",
    "    caracteres_especiais = re.compile('[@_!#$%^&*<>()?/\\\\|}{~:]')   # nenhum caracter removido\n",
    "    colunas_com_caracteres_especiais = {}\n",
    "\n",
    "    for coluna in df.columns:\n",
    "        if df[coluna].dtype == 'object':  # Verifica apenas colunas de texto\n",
    "            contem_caracteres_especiais = df[coluna].apply(lambda x: bool(caracteres_especiais.search(x) if isinstance(x, str) else False)).any()\n",
    "            if contem_caracteres_especiais:\n",
    "                indices_com_caracteres_especiais = df[coluna][df[coluna].apply(lambda x: bool(caracteres_especiais.search(x) if isinstance(x, str) else False))].index.tolist()\n",
    "                colunas_com_caracteres_especiais[coluna] = indices_com_caracteres_especiais\n",
    "\n",
    "    # Exibe o resultado sobre caracteres especiais\n",
    "    print(\"\\n\\nExistem caracteres especiais nas colunas:\", bool(colunas_com_caracteres_especiais))\n",
    "    if colunas_com_caracteres_especiais:\n",
    "        print(\"\\nColunas com caracteres especiais e os índices:\")\n",
    "        for coluna, indices in colunas_com_caracteres_especiais.items():\n",
    "            print(f\"\\n Coluna [ {coluna} ]: Índices com caracteres especiais {indices}\")\n",
    "    else:\n",
    "        print(\"\\nNenhuma coluna possui caracteres especiais.\")\n",
    "\n",
    "print('A função foi criada com sucesso.')"
   ]
  },
  {
   "cell_type": "markdown",
   "id": "792be9a3",
   "metadata": {},
   "source": [
    "<br>\n",
    "\n",
    "### Transformando dados carregados em RDD para dataframe do Pandas (apenas para Análise Inicial)\n",
    "\n",
    "- Vamos realizar análise exploratória através da função acima. RDDs são ótimos para processamento, mas ruins para exploração, então converteremos o RDD para DataFrame Spark e então para DataFrame Pandas (**não é possível converter diretamente objeto RDD para objeto Pandas**)."
   ]
  },
  {
   "cell_type": "code",
   "execution_count": 7,
   "id": "4e74c177",
   "metadata": {},
   "outputs": [
    {
     "name": "stdout",
     "output_type": "stream",
     "text": [
      "<class 'pyspark.sql.dataframe.DataFrame'> \n",
      "\n"
     ]
    },
    {
     "data": {
      "text/html": [
       "<div>\n",
       "<style scoped>\n",
       "    .dataframe tbody tr th:only-of-type {\n",
       "        vertical-align: middle;\n",
       "    }\n",
       "\n",
       "    .dataframe tbody tr th {\n",
       "        vertical-align: top;\n",
       "    }\n",
       "\n",
       "    .dataframe thead th {\n",
       "        text-align: right;\n",
       "    }\n",
       "</style>\n",
       "<table border=\"1\" class=\"dataframe\">\n",
       "  <thead>\n",
       "    <tr style=\"text-align: right;\">\n",
       "      <th></th>\n",
       "      <th>fabricante,tipo_combustivel,aspirado,portas,tipo,direcao,cilindros,horsepower,rpm,consumo_cidade,consumo_estrada,preco</th>\n",
       "    </tr>\n",
       "  </thead>\n",
       "  <tbody>\n",
       "    <tr>\n",
       "      <th>0</th>\n",
       "      <td>subaru,gas,std,two,hatchback,fwd,four,69,4900,...</td>\n",
       "    </tr>\n",
       "    <tr>\n",
       "      <th>1</th>\n",
       "      <td>chevrolet,gas,std,two,hatchback,fwd,three,48,5...</td>\n",
       "    </tr>\n",
       "    <tr>\n",
       "      <th>2</th>\n",
       "      <td>mazda,gas,std,two,hatchback,fwd,four,68,5000,3...</td>\n",
       "    </tr>\n",
       "    <tr>\n",
       "      <th>3</th>\n",
       "      <td>toyota,gas,std,two,hatchback,fwd,four,62,4800,...</td>\n",
       "    </tr>\n",
       "    <tr>\n",
       "      <th>4</th>\n",
       "      <td>mitsubishi,gas,std,two,hatchback,fwd,four,68,5...</td>\n",
       "    </tr>\n",
       "  </tbody>\n",
       "</table>\n",
       "</div>"
      ],
      "text/plain": [
       "  fabricante,tipo_combustivel,aspirado,portas,tipo,direcao,cilindros,horsepower,rpm,consumo_cidade,consumo_estrada,preco\n",
       "0  subaru,gas,std,two,hatchback,fwd,four,69,4900,...                                                                    \n",
       "1  chevrolet,gas,std,two,hatchback,fwd,three,48,5...                                                                    \n",
       "2  mazda,gas,std,two,hatchback,fwd,four,68,5000,3...                                                                    \n",
       "3  toyota,gas,std,two,hatchback,fwd,four,62,4800,...                                                                    \n",
       "4  mitsubishi,gas,std,two,hatchback,fwd,four,68,5...                                                                    "
      ]
     },
     "metadata": {},
     "output_type": "display_data"
    }
   ],
   "source": [
    "# Converte RDD para DataFrame Spark, corrigindo a separação de colunas\n",
    "header = carrosRDD.first().replace('\"', '').split(';')\n",
    "df_spark_com_cabecalho = carrosRDD.map(lambda x: x.replace('\"', '').split(';')).toDF(header)\n",
    "\n",
    "# Remover a primeira linha do DataFrame, que é o cabeçalho\n",
    "df_spark_com_cabecalho = df_spark_com_cabecalho.filter(df_spark_com_cabecalho[header[0]] != header[0])\n",
    "\n",
    "# Verificar o tipo do objeto\n",
    "print(type(df_spark_com_cabecalho), '\\n')\n",
    "\n",
    "# Converte DataFrame Spark para DataFrame Pandas\n",
    "df_pandas = df_spark_com_cabecalho.toPandas()\n",
    "\n",
    "# Visualizando as primeiras linhas do DataFrame Pandas\n",
    "display(df_pandas.head())"
   ]
  },
  {
   "cell_type": "markdown",
   "id": "31c67f4a",
   "metadata": {},
   "source": [
    "<br>\n",
    "\n",
    "### Visualizando Função para Análise Inicial"
   ]
  },
  {
   "cell_type": "code",
   "execution_count": 8,
   "id": "1fa81e0c",
   "metadata": {},
   "outputs": [
    {
     "name": "stdout",
     "output_type": "stream",
     "text": [
      "\n",
      "\n",
      " INFO \n",
      "\n",
      "\n",
      "<class 'pandas.core.frame.DataFrame'>\n",
      "RangeIndex: 197 entries, 0 to 196\n",
      "Data columns (total 1 columns):\n",
      " #   Column                                                                                                                  Non-Null Count  Dtype \n",
      "---  ------                                                                                                                  --------------  ----- \n",
      " 0   fabricante,tipo_combustivel,aspirado,portas,tipo,direcao,cilindros,horsepower,rpm,consumo_cidade,consumo_estrada,preco  197 non-null    object\n",
      "dtypes: object(1)\n",
      "memory usage: 1.7+ KB\n",
      "\n",
      "\n",
      " ------------------------------------------------------------------------------------------ \n",
      "\n",
      "\n",
      "\n",
      "\n",
      "Existem valores ausentes: False\n",
      "\n",
      "Nenhuma variável possui valores ausentes.\n",
      "\n",
      "\n",
      "Existem valores duplicados: False\n",
      "\n",
      "Nenhuma variável possui valores duplicados.\n",
      "\n",
      "\n",
      "Existem caracteres especiais nas colunas: False\n",
      "\n",
      "Nenhuma coluna possui caracteres especiais.\n"
     ]
    }
   ],
   "source": [
    "funcao_analise_inicial(df_pandas)"
   ]
  },
  {
   "cell_type": "markdown",
   "id": "8c81a5af",
   "metadata": {},
   "source": [
    "### Resumo\n",
    "\n",
    "- Não será necessário nenhum tratamento de **Limpeza de Dados**.\n",
    "\n",
    "<br> <br> <br>"
   ]
  },
  {
   "cell_type": "code",
   "execution_count": null,
   "id": "a94426ee",
   "metadata": {},
   "outputs": [],
   "source": []
  },
  {
   "cell_type": "code",
   "execution_count": null,
   "id": "d4aa493a",
   "metadata": {},
   "outputs": [],
   "source": []
  },
  {
   "cell_type": "code",
   "execution_count": null,
   "id": "1ff8890e",
   "metadata": {},
   "outputs": [],
   "source": []
  }
 ],
 "metadata": {
  "kernelspec": {
   "display_name": "Python 3 (ipykernel)",
   "language": "python",
   "name": "python3"
  },
  "language_info": {
   "codemirror_mode": {
    "name": "ipython",
    "version": 3
   },
   "file_extension": ".py",
   "mimetype": "text/x-python",
   "name": "python",
   "nbconvert_exporter": "python",
   "pygments_lexer": "ipython3",
   "version": "3.9.7"
  }
 },
 "nbformat": 4,
 "nbformat_minor": 5
}
