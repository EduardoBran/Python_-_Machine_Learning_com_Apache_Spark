{
 "cells": [
  {
   "cell_type": "markdown",
   "id": "1f9d0e8d",
   "metadata": {},
   "source": [
    "# <span style=\"color: green; font-size: 40px; font-weight: bold;\">Lab 2 (Classificação Multiclasse com PySpark) </span>\n",
    "\n",
    "<br> <br>\n",
    "\n",
    "# Prevendo o Resultado de Jogos de Futebol\n",
    "\n",
    "<br>\n",
    "\n",
    "### Contexto\n",
    "\n",
    "Neste projeto, vamos explorar um importante contexto de negócio na área esportiva: a **previsão do resultado de partidas de futebol**. O objetivo é construir um modelo preditivo que, utilizando dados históricos sobre o desempenho de equipes em partidas anteriores, seja capaz de prever o resultado futuro de uma partida de futebol. Este projeto será desenvolvido desde a concepção do problema de negócio até a entrega de um modelo preditivo, utilizando técnicas de Machine Learning com PySpark.\n",
    "\n",
    "<br>\n",
    "\n",
    "### Objetivo\n",
    "\n",
    "O objetivo deste projeto é **construir um modelo de Machine Learning capaz de prever o resultado de uma partida de futebol**. O modelo será capaz de prever se o resultado de uma partida será uma vitória, empate ou derrota para um determinado time, usando como entrada dados como a média de faltas sofridas, média de faltas recebidas, média de cartões recebidos, e média de chutes a gol.\n",
    "\n",
    "<br>\n",
    "\n",
    "### Pergunta de Negócio Principal\n",
    "\n",
    "> \"Como podemos prever o resultado de uma partida de futebol usando dados históricos de desempenho dos times?\"\n",
    "\n",
    "<br>\n",
    "\n",
    "### Entregável\n",
    "\n",
    "O entregável deste projeto será um **modelo de Machine Learning treinado para prever o resultado de partidas de futebol**. O modelo será desenvolvido utilizando dados históricos e será capaz de fazer previsões com base em novos dados de entrada. O processo incluirá a concepção do problema de negócio, preparação dos dados, desenvolvimento do modelo, e a entrega do modelo preditivo.\n",
    "\n",
    "<br>\n",
    "\n",
    "### Sobre o Conjunto de Dados\n",
    "\n",
    "Os dados utilizados neste projeto abrangem diversas características do desempenho dos times em partidas anteriores, incluindo a média de faltas sofridas, média de faltas recebidas, média de cartões recebidos, e média de chutes a gol. A variável de resultado será a variável alvo (dependente) e as demais variáveis serão candidatas a features (variáveis preditoras ou independentes).\n",
    "\n",
    "Para este projeto, utilizaremos o conjunto de dados \"dataset2.csv\", que contém informações detalhadas sobre o desempenho dos times em partidas de futebol e os respectivos resultados.\n",
    "\n",
    "<br>\n",
    "\n",
    "<table border=\"2\">\n",
    "  <tr>\n",
    "    <th style=\"text-align: center; font-size: 16px;\">Nome da Coluna</th>\n",
    "    <th style=\"text-align: center; font-size: 16px;\">Tipo de Dado</th>\n",
    "    <th style=\"text-align: center; font-size: 16px;\">Descrição</th>\n",
    "  </tr>\n",
    "  <tr>\n",
    "    <td>media_faltas_sofridas</td>\n",
    "    <td>float</td>\n",
    "    <td>Média de faltas sofridas pelo time por partida.</td>\n",
    "  </tr>\n",
    "  <tr>\n",
    "    <td>media_faltas_recebidas</td>\n",
    "    <td>float</td>\n",
    "    <td>Média de faltas cometidas pelo time por partida.</td>\n",
    "  </tr>\n",
    "  <tr>\n",
    "    <td>media_cartoes_recebidos</td>\n",
    "    <td>float</td>\n",
    "    <td>Média de cartões recebidos pelo time por partida.</td>\n",
    "  </tr>\n",
    "  <tr>\n",
    "    <td>media_chutes_a_gol</td>\n",
    "    <td>float</td>\n",
    "    <td>Média de chutes a gol do time por partida.</td>\n",
    "  </tr>\n",
    "  <tr>\n",
    "    <td>resultado <b>(variável alvo)</b></td>\n",
    "    <td>string</td>\n",
    "    <td>Resultado da partida para o time (vitória, empate, derrota).</td>\n",
    "  </tr>\n",
    "</table>\n",
    "\n",
    "<br><br><br>\n",
    "\n",
    "# Importando Pacotes"
   ]
  },
  {
   "cell_type": "code",
   "execution_count": 9,
   "id": "7a0d9750",
   "metadata": {},
   "outputs": [],
   "source": [
    "# Importa o findspark e inicializa\n",
    "import findspark\n",
    "findspark.init()\n",
    "\n",
    "# Imports\n",
    "import numpy as np\n",
    "import pyspark\n",
    "from pyspark import SparkContext, SparkConf\n",
    "from pyspark.sql import SparkSession\n",
    "from pyspark.sql import Row\n",
    "from pyspark.ml.linalg import Vectors\n",
    "from pyspark.ml.regression import LinearRegression\n",
    "from pyspark.ml.evaluation import RegressionEvaluator\n",
    "\n",
    "## Bibliotecas de Visualização de Dados\n",
    "\n",
    "import seaborn as sns                    # Biblioteca para visualização de dados estatísticos.\n",
    "from matplotlib import pyplot as plt     # Biblioteca para criação de gráficos e visualizações."
   ]
  },
  {
   "cell_type": "markdown",
   "id": "c985b686",
   "metadata": {},
   "source": [
    "<br> <br>\n",
    "\n",
    "# <span style=\"color: green; font-size: 38px; font-weight: bold;\">Preparando o Ambiente Spark</span>"
   ]
  },
  {
   "cell_type": "code",
   "execution_count": 4,
   "id": "1ee56b40",
   "metadata": {},
   "outputs": [
    {
     "name": "stderr",
     "output_type": "stream",
     "text": [
      "24/08/08 16:59:15 WARN Utils: Your hostname, eduardo-Inspiron-15-3520 resolves to a loopback address: 127.0.1.1; using 192.168.0.13 instead (on interface wlp0s20f3)\n",
      "24/08/08 16:59:15 WARN Utils: Set SPARK_LOCAL_IP if you need to bind to another address\n",
      "Setting default log level to \"WARN\".\n",
      "To adjust logging level use sc.setLogLevel(newLevel). For SparkR, use setLogLevel(newLevel).\n",
      "24/08/08 16:59:16 WARN NativeCodeLoader: Unable to load native-hadoop library for your platform... using builtin-java classes where applicable\n"
     ]
    },
    {
     "data": {
      "text/html": [
       "\n",
       "            <div>\n",
       "                <p><b>SparkSession - in-memory</b></p>\n",
       "                \n",
       "        <div>\n",
       "            <p><b>SparkContext</b></p>\n",
       "\n",
       "            <p><a href=\"http://192.168.0.13:4040\">Spark UI</a></p>\n",
       "\n",
       "            <dl>\n",
       "              <dt>Version</dt>\n",
       "                <dd><code>v3.5.1</code></dd>\n",
       "              <dt>Master</dt>\n",
       "                <dd><code>local[*]</code></dd>\n",
       "              <dt>AppName</dt>\n",
       "                <dd><code>Lab2</code></dd>\n",
       "            </dl>\n",
       "        </div>\n",
       "        \n",
       "            </div>\n",
       "        "
      ],
      "text/plain": [
       "<pyspark.sql.session.SparkSession at 0x7f8d1ca251c0>"
      ]
     },
     "execution_count": 4,
     "metadata": {},
     "output_type": "execute_result"
    }
   ],
   "source": [
    "# Definindo semente aleatória (seed) para reprodutibilidade do notebook\n",
    "rnd_seed = 23\n",
    "np.random.seed = rnd_seed\n",
    "np.random.set_state = rnd_seed\n",
    "\n",
    "# Se houver uma sessão Spark ativa, encerre-a\n",
    "if 'sc' in globals():\n",
    "    sc.stop()\n",
    "\n",
    "if 'spark' in globals():\n",
    "    spark.stop()\n",
    "\n",
    "\n",
    "# Criando o Spark Context\n",
    "conf = SparkConf().setAppName(\"Lab2\") \\\n",
    "                  .set(\"spark.ui.showConsoleProgress\", \"false\") \\\n",
    "                  .set(\"spark.executor.heartbeatInterval\", \"20s\") \\\n",
    "                  .set(\"spark.eventLog.enabled\", \"false\") \\\n",
    "                  .set(\"spark.sql.shuffle.partitions\", \"2\") \\\n",
    "                  .set(\"spark.sql.debug.maxToStringFields\", \"100\") \\\n",
    "                  .set(\"spark.executor.memory\", \"4g\") \\\n",
    "                  .set(\"spark.driver.memory\", \"4g\") \\\n",
    "                  .set(\"spark.driver.maxResultSize\", \"2g\")  # Configuração adicional para limitar o tamanho do resultado\n",
    "\n",
    "# Criar o Spark Context e a Spark Session\n",
    "sc = SparkContext(conf=conf)\n",
    "spSession = SparkSession.builder.config(conf=conf).getOrCreate()\n",
    "\n",
    "# Ajustar o nível de log para ERROR\n",
    "sc.setLogLevel(\"ERROR\")\n",
    "\n",
    "# Configurar log4j para suprimir avisos (deixar como comentário e volta ao normal)\n",
    "log4j_logger = sc._jvm.org.apache.log4j\n",
    "log4j_logger.LogManager.getLogger(\"org\").setLevel(log4j_logger.Level.ERROR)\n",
    "log4j_logger.LogManager.getLogger(\"akka\").setLevel(log4j_logger.Level.ERROR)\n",
    "\n",
    "# Visualizar o objeto spark_session\n",
    "spSession"
   ]
  },
  {
   "cell_type": "markdown",
   "id": "6bb531be",
   "metadata": {},
   "source": [
    "<br><br>\n",
    "\n",
    "# <span style=\"color: green; font-size: 38px; font-weight: bold;\">Carregando os Dados</span>\n",
    "\n",
    "- Os dados serão carregados a partir de um arquivo CSV e gerados como um RDD (Resilient Distributed Dataset) no Apache Spark. O RDD é uma estrutura de dados distribuída que permite o processamento paralelo em um cluster, otimizando a performance."
   ]
  },
  {
   "cell_type": "code",
   "execution_count": 6,
   "id": "17bbdb7c",
   "metadata": {},
   "outputs": [
    {
     "name": "stdout",
     "output_type": "stream",
     "text": [
      "<class 'pyspark.rdd.RDD'> \n",
      "\n",
      "Lab/dados/dataset2.csv MapPartitionsRDD[4] at textFile at NativeMethodAccessorImpl.java:0 \n",
      "\n",
      "151 \n",
      "\n"
     ]
    }
   ],
   "source": [
    "# Carregando os dados e gerando um RDD\n",
    "dados_time_futebol = sc.textFile(\"Lab/dados/dataset2.csv\")\n",
    "\n",
    "# Tipo\n",
    "print(type(dados_time_futebol), '\\n')\n",
    "\n",
    "# Colocando o RDD em cache. Esse processo otimiza a performance\n",
    "print(dados_time_futebol.cache(), '\\n')\n",
    "\n",
    "# Número de registros\n",
    "print(dados_time_futebol.count(), '\\n')"
   ]
  },
  {
   "cell_type": "code",
   "execution_count": 7,
   "id": "db4d33e1",
   "metadata": {},
   "outputs": [
    {
     "name": "stdout",
     "output_type": "stream",
     "text": [
      "['media_faltas_sofridas,media_faltas_recebidas,media_cartoes_recebidos,media_chutes_a_gol,resultado', '4.8,3,1.4,0.3,vitoria', '5.1,3.8,1.6,0.2,vitoria', '4.6,3.2,1.4,0.2,vitoria', '5.3,3.7,1.5,0.2,vitoria']\n"
     ]
    }
   ],
   "source": [
    "# Visualizando as primeiras linhas\n",
    "print(dados_time_futebol.take(5))"
   ]
  },
  {
   "cell_type": "code",
   "execution_count": 8,
   "id": "4142f969",
   "metadata": {},
   "outputs": [
    {
     "data": {
      "text/html": [
       "<div>\n",
       "<style scoped>\n",
       "    .dataframe tbody tr th:only-of-type {\n",
       "        vertical-align: middle;\n",
       "    }\n",
       "\n",
       "    .dataframe tbody tr th {\n",
       "        vertical-align: top;\n",
       "    }\n",
       "\n",
       "    .dataframe thead th {\n",
       "        text-align: right;\n",
       "    }\n",
       "</style>\n",
       "<table border=\"1\" class=\"dataframe\">\n",
       "  <thead>\n",
       "    <tr style=\"text-align: right;\">\n",
       "      <th></th>\n",
       "      <th>media_faltas_sofridas</th>\n",
       "      <th>media_faltas_recebidas</th>\n",
       "      <th>media_cartoes_recebidos</th>\n",
       "      <th>media_chutes_a_gol</th>\n",
       "      <th>resultado</th>\n",
       "    </tr>\n",
       "  </thead>\n",
       "  <tbody>\n",
       "    <tr>\n",
       "      <th>0</th>\n",
       "      <td>4.8</td>\n",
       "      <td>3</td>\n",
       "      <td>1.4</td>\n",
       "      <td>0.3</td>\n",
       "      <td>vitoria</td>\n",
       "    </tr>\n",
       "    <tr>\n",
       "      <th>1</th>\n",
       "      <td>5.1</td>\n",
       "      <td>3.8</td>\n",
       "      <td>1.6</td>\n",
       "      <td>0.2</td>\n",
       "      <td>vitoria</td>\n",
       "    </tr>\n",
       "    <tr>\n",
       "      <th>2</th>\n",
       "      <td>4.6</td>\n",
       "      <td>3.2</td>\n",
       "      <td>1.4</td>\n",
       "      <td>0.2</td>\n",
       "      <td>vitoria</td>\n",
       "    </tr>\n",
       "    <tr>\n",
       "      <th>3</th>\n",
       "      <td>5.3</td>\n",
       "      <td>3.7</td>\n",
       "      <td>1.5</td>\n",
       "      <td>0.2</td>\n",
       "      <td>vitoria</td>\n",
       "    </tr>\n",
       "  </tbody>\n",
       "</table>\n",
       "</div>"
      ],
      "text/plain": [
       "  media_faltas_sofridas media_faltas_recebidas media_cartoes_recebidos  \\\n",
       "0                   4.8                      3                     1.4   \n",
       "1                   5.1                    3.8                     1.6   \n",
       "2                   4.6                    3.2                     1.4   \n",
       "3                   5.3                    3.7                     1.5   \n",
       "\n",
       "  media_chutes_a_gol resultado  \n",
       "0                0.3   vitoria  \n",
       "1                0.2   vitoria  \n",
       "2                0.2   vitoria  \n",
       "3                0.2   vitoria  "
      ]
     },
     "metadata": {},
     "output_type": "display_data"
    }
   ],
   "source": [
    "# Visualizando primeiras 4 linhas com Pandas (Apenas para visualização)\n",
    "\n",
    "import pandas as pd\n",
    "\n",
    "# Obter as primeiras 4 linhas do RDD\n",
    "linhas = dados_time_futebol.take(5)\n",
    "\n",
    "# Dividir as linhas em colunas\n",
    "colunas = linhas[0].split(\",\")\n",
    "dados_formatados = [linha.split(\",\") for linha in linhas[1:]]\n",
    "\n",
    "# Criar um DataFrame Pandas\n",
    "df = pd.DataFrame(dados_formatados, columns=colunas)\n",
    "\n",
    "# Mostrar o DataFrame\n",
    "display(df)"
   ]
  },
  {
   "cell_type": "markdown",
   "id": "bc7328d1",
   "metadata": {},
   "source": [
    "<br><br><br>\n",
    "\n",
    "# <span style=\"color: green; font-size: 38px; font-weight: bold;\"> Análise Exploratória Inicial dos Dados </span>\n",
    "\n",
    "<br>\n",
    "\n",
    "### Criação de Função Para Análise Inicial"
   ]
  },
  {
   "cell_type": "code",
   "execution_count": 31,
   "id": "a794f510",
   "metadata": {},
   "outputs": [
    {
     "name": "stdout",
     "output_type": "stream",
     "text": [
      "A função foi criada com sucesso.\n"
     ]
    }
   ],
   "source": [
    "import pandas as pd\n",
    "import re\n",
    "\n",
    "def funcao_analise_inicial(df):\n",
    "    # Configurar Pandas para exibir todas as linhas\n",
    "    pd.set_option('display.max_rows', None)\n",
    "\n",
    "    # Informações do DataFrame\n",
    "    print('\\n\\n INFO \\n\\n')\n",
    "    df.info()\n",
    "    print('\\n\\n ------------------------------------------------------------------------------------------ \\n\\n')\n",
    "\n",
    "    # Verifica se há valores ausentes e duplicados\n",
    "    valores_ausentes = df.isna().sum().sum() > 0\n",
    "    valores_duplicados = df.duplicated().sum() > 0\n",
    "\n",
    "    # Nomes das variáveis com valores ausentes\n",
    "    variaveis_ausentes = df.columns[df.isna().any()].tolist()\n",
    "\n",
    "    # Número de linhas duplicadas\n",
    "    num_linhas_duplicadas = df.duplicated().sum()\n",
    "\n",
    "    # Porcentagem de linhas duplicadas\n",
    "    porcentagem_linhas_duplicadas = (num_linhas_duplicadas / len(df)) * 100\n",
    "\n",
    "    # Exibe o resultado sobre valores ausentes e duplicados\n",
    "    print(\"\\n\\nExistem valores ausentes:\", valores_ausentes)\n",
    "    if valores_ausentes:\n",
    "        print(\"\\nVariáveis com valores ausentes:\", variaveis_ausentes)\n",
    "    else:\n",
    "        print(\"\\nNenhuma variável possui valores ausentes.\")\n",
    "\n",
    "    print(\"\\n\\nExistem valores duplicados:\", valores_duplicados)\n",
    "    if valores_duplicados:\n",
    "        print(\"\\nNúmero de Linhas Duplicadas:\", num_linhas_duplicadas)\n",
    "        print(\"\\nPorcentagem de Linhas Duplicadas: {:.2f}%\".format(porcentagem_linhas_duplicadas))\n",
    "    else:\n",
    "        print(\"\\nNenhuma variável possui valores duplicados.\")\n",
    "    \n",
    "    # Verificação de caracteres especiais\n",
    "    caracteres_especiais = re.compile('[@_!#$%^&*<>()?/\\\\|}{~:]')   # nenhum caracter removido\n",
    "    colunas_com_caracteres_especiais = {}\n",
    "\n",
    "    for coluna in df.columns:\n",
    "        if df[coluna].dtype == 'object':  # Verifica apenas colunas de texto\n",
    "            contem_caracteres_especiais = df[coluna].apply(lambda x: bool(caracteres_especiais.search(x) if isinstance(x, str) else False)).any()\n",
    "            if contem_caracteres_especiais:\n",
    "                indices_com_caracteres_especiais = df[coluna][df[coluna].apply(lambda x: bool(caracteres_especiais.search(x) if isinstance(x, str) else False))].index.tolist()\n",
    "                colunas_com_caracteres_especiais[coluna] = indices_com_caracteres_especiais\n",
    "\n",
    "    # Exibe o resultado sobre caracteres especiais\n",
    "    print(\"\\n\\nExistem caracteres especiais nas colunas:\", bool(colunas_com_caracteres_especiais))\n",
    "    if colunas_com_caracteres_especiais:\n",
    "        print(\"\\nColunas com caracteres especiais e os índices:\")\n",
    "        for coluna, indices in colunas_com_caracteres_especiais.items():\n",
    "            print(f\"\\n Coluna [ {coluna} ]: Índices com caracteres especiais {indices}\")\n",
    "    else:\n",
    "        print(\"\\nNenhuma coluna possui caracteres especiais.\")\n",
    "\n",
    "print('A função foi criada com sucesso.')"
   ]
  },
  {
   "cell_type": "markdown",
   "id": "792be9a3",
   "metadata": {},
   "source": [
    "<br>\n",
    "\n",
    "### Transformando dados carregados em RDD para dataframe do Pandas (apenas para Análise Inicial)\n",
    "\n",
    "- Vamos realizar análise exploratória através da função acima. RDDs são ótimos para processamento, mas ruins para exploração, então converteremos o RDD para DataFrame Spark e então para DataFrame Pandas (**não é possível converter diretamente objeto RDD para objeto Pandas**)."
   ]
  },
  {
   "cell_type": "code",
   "execution_count": 12,
   "id": "3e70cd72",
   "metadata": {},
   "outputs": [
    {
     "name": "stdout",
     "output_type": "stream",
     "text": [
      "<class 'pyspark.sql.dataframe.DataFrame'> \n",
      "\n",
      "<class 'pandas.core.frame.DataFrame'> \n",
      "\n"
     ]
    },
    {
     "data": {
      "text/html": [
       "<div>\n",
       "<style scoped>\n",
       "    .dataframe tbody tr th:only-of-type {\n",
       "        vertical-align: middle;\n",
       "    }\n",
       "\n",
       "    .dataframe tbody tr th {\n",
       "        vertical-align: top;\n",
       "    }\n",
       "\n",
       "    .dataframe thead th {\n",
       "        text-align: right;\n",
       "    }\n",
       "</style>\n",
       "<table border=\"1\" class=\"dataframe\">\n",
       "  <thead>\n",
       "    <tr style=\"text-align: right;\">\n",
       "      <th></th>\n",
       "      <th>media_faltas_sofridas</th>\n",
       "      <th>media_faltas_recebidas</th>\n",
       "      <th>media_cartoes_recebidos</th>\n",
       "      <th>media_chutes_a_gol</th>\n",
       "      <th>resultado</th>\n",
       "    </tr>\n",
       "  </thead>\n",
       "  <tbody>\n",
       "    <tr>\n",
       "      <th>0</th>\n",
       "      <td>4.8</td>\n",
       "      <td>3</td>\n",
       "      <td>1.4</td>\n",
       "      <td>0.3</td>\n",
       "      <td>vitoria</td>\n",
       "    </tr>\n",
       "    <tr>\n",
       "      <th>1</th>\n",
       "      <td>5.1</td>\n",
       "      <td>3.8</td>\n",
       "      <td>1.6</td>\n",
       "      <td>0.2</td>\n",
       "      <td>vitoria</td>\n",
       "    </tr>\n",
       "    <tr>\n",
       "      <th>2</th>\n",
       "      <td>4.6</td>\n",
       "      <td>3.2</td>\n",
       "      <td>1.4</td>\n",
       "      <td>0.2</td>\n",
       "      <td>vitoria</td>\n",
       "    </tr>\n",
       "    <tr>\n",
       "      <th>3</th>\n",
       "      <td>5.3</td>\n",
       "      <td>3.7</td>\n",
       "      <td>1.5</td>\n",
       "      <td>0.2</td>\n",
       "      <td>vitoria</td>\n",
       "    </tr>\n",
       "    <tr>\n",
       "      <th>4</th>\n",
       "      <td>5.1</td>\n",
       "      <td>3.5</td>\n",
       "      <td>1.4</td>\n",
       "      <td>0.2</td>\n",
       "      <td>vitoria</td>\n",
       "    </tr>\n",
       "  </tbody>\n",
       "</table>\n",
       "</div>"
      ],
      "text/plain": [
       "  media_faltas_sofridas media_faltas_recebidas media_cartoes_recebidos  \\\n",
       "0                   4.8                      3                     1.4   \n",
       "1                   5.1                    3.8                     1.6   \n",
       "2                   4.6                    3.2                     1.4   \n",
       "3                   5.3                    3.7                     1.5   \n",
       "4                   5.1                    3.5                     1.4   \n",
       "\n",
       "  media_chutes_a_gol resultado  \n",
       "0                0.3   vitoria  \n",
       "1                0.2   vitoria  \n",
       "2                0.2   vitoria  \n",
       "3                0.2   vitoria  \n",
       "4                0.2   vitoria  "
      ]
     },
     "metadata": {},
     "output_type": "display_data"
    }
   ],
   "source": [
    "# Converte RDD para DataFrame Spark\n",
    "header = dados_time_futebol.first().split(',')\n",
    "df_spark_com_cabecalho = dados_time_futebol.map(lambda x: x.split(',')).toDF(header)\n",
    "print(type(df_spark_com_cabecalho), '\\n')\n",
    "\n",
    "# Converte DataFrame Spark para DataFrame Pandas\n",
    "df_pandas = df_spark_com_cabecalho.toPandas()\n",
    "df_pandas = df_pandas.iloc[1:, :].reset_index(drop=True)\n",
    "print(type(df_pandas), '\\n')\n",
    "\n",
    "# Visualizando\n",
    "display(df_pandas.head())"
   ]
  },
  {
   "cell_type": "markdown",
   "id": "31c67f4a",
   "metadata": {},
   "source": [
    "<br>\n",
    "\n",
    "### Visualizando Função para Análise Inicial"
   ]
  },
  {
   "cell_type": "code",
   "execution_count": 34,
   "id": "d77c898f",
   "metadata": {},
   "outputs": [
    {
     "name": "stdout",
     "output_type": "stream",
     "text": [
      "\n",
      "\n",
      " INFO \n",
      "\n",
      "\n",
      "<class 'pandas.core.frame.DataFrame'>\n",
      "RangeIndex: 150 entries, 0 to 149\n",
      "Data columns (total 5 columns):\n",
      " #   Column                   Non-Null Count  Dtype \n",
      "---  ------                   --------------  ----- \n",
      " 0   media_faltas_sofridas    150 non-null    object\n",
      " 1   media_faltas_recebidas   150 non-null    object\n",
      " 2   media_cartoes_recebidos  150 non-null    object\n",
      " 3   media_chutes_a_gol       150 non-null    object\n",
      " 4   resultado                150 non-null    object\n",
      "dtypes: object(5)\n",
      "memory usage: 6.0+ KB\n",
      "\n",
      "\n",
      " ------------------------------------------------------------------------------------------ \n",
      "\n",
      "\n",
      "\n",
      "\n",
      "Existem valores ausentes: False\n",
      "\n",
      "Nenhuma variável possui valores ausentes.\n",
      "\n",
      "\n",
      "Existem valores duplicados: True\n",
      "\n",
      "Número de Linhas Duplicadas: 1\n",
      "\n",
      "Porcentagem de Linhas Duplicadas: 0.67%\n",
      "\n",
      "\n",
      "Existem caracteres especiais nas colunas: False\n",
      "\n",
      "Nenhuma coluna possui caracteres especiais.\n"
     ]
    }
   ],
   "source": [
    "funcao_analise_inicial(df_pandas)"
   ]
  },
  {
   "cell_type": "markdown",
   "id": "bc3831ef",
   "metadata": {},
   "source": [
    "### Resumo\n",
    "\n",
    "- Não será necessário nenhum tratamento de **Limpeza de Dados**.\n",
    "\n",
    "<br> <br> <br>\n",
    "\n",
    "\n",
    "# <span style=\"color: green; font-size: 38px; font-weight: bold;\">Transformação dos Dados</span>\n",
    "\n",
    "- Converter objeto RDD em dataframe do pyspark\n",
    "- Converter todas as colunas para o tipo numérico\n",
    "- Aplicar Técnica de Label Enconding na coluna da variável alvo para converte-la para tipo numérico\n",
    "\n",
    "<br>\n",
    "\n",
    "#### Convertendo Para Dataframe do Spark e Colunas para Tipo Numérico"
   ]
  },
  {
   "cell_type": "code",
   "execution_count": 17,
   "id": "97091db6",
   "metadata": {},
   "outputs": [
    {
     "name": "stdout",
     "output_type": "stream",
     "text": [
      "DataFrame[media_faltas_sofridas: double, media_faltas_recebidas: double, media_cartoes_recebidos: double, media_chutes_a_gol: double, resultado: string]\n",
      "\n",
      "-----------------------------------------------------------------------------------------------\n",
      "\n",
      "[Row(media_faltas_sofridas=4.8, media_faltas_recebidas=3.0, media_cartoes_recebidos=1.4, media_chutes_a_gol=0.3, resultado='vitoria'), Row(media_faltas_sofridas=5.1, media_faltas_recebidas=3.8, media_cartoes_recebidos=1.6, media_chutes_a_gol=0.2, resultado='vitoria'), Row(media_faltas_sofridas=4.6, media_faltas_recebidas=3.2, media_cartoes_recebidos=1.4, media_chutes_a_gol=0.2, resultado='vitoria'), Row(media_faltas_sofridas=5.3, media_faltas_recebidas=3.7, media_cartoes_recebidos=1.5, media_chutes_a_gol=0.2, resultado='vitoria'), Row(media_faltas_sofridas=5.1, media_faltas_recebidas=3.5, media_cartoes_recebidos=1.4, media_chutes_a_gol=0.2, resultado='vitoria')]\n"
     ]
    }
   ],
   "source": [
    "# Removendo a primeira linha do arquivo (cabeçalho)\n",
    "dados_time_futebol_2 = dados_time_futebol.filter(lambda x: \"media_faltas_sofridas\" not in x)\n",
    "\n",
    "# Separando as colunas\n",
    "dados_time_futebol_3 = dados_time_futebol_2.map(lambda l: l.split(\",\"))\n",
    "\n",
    "# Mapeando as colunas\n",
    "dados_time_futebol_4 = dados_time_futebol_3.map(lambda p: Row(media_faltas_sofridas = float(p[0]), \n",
    "                                                              media_faltas_recebidas = float(p[1]), \n",
    "                                                              media_cartoes_recebidos = float(p[2]), \n",
    "                                                              media_chutes_a_gol = float(p[3]), \n",
    "                                                              resultado = p[4] ))\n",
    "\n",
    "# Converte o RDD para DataFrame do Spark\n",
    "df_time = spSession.createDataFrame(dados_time_futebol_4)\n",
    "print(df_time.cache())\n",
    "print('\\n-----------------------------------------------------------------------------------------------\\n')\n",
    "\n",
    "# Visualiza primeiras linhas\n",
    "print(df_time.take(5))"
   ]
  },
  {
   "cell_type": "markdown",
   "id": "af08d0c0",
   "metadata": {},
   "source": [
    "<br>\n",
    "\n",
    "#### Aplicando Label Enconding na Coluna da Variável Alvo"
   ]
  },
  {
   "cell_type": "code",
   "execution_count": 18,
   "id": "5825f83a",
   "metadata": {},
   "outputs": [
    {
     "name": "stdout",
     "output_type": "stream",
     "text": [
      "[Row(media_faltas_sofridas=4.8, media_faltas_recebidas=3.0, media_cartoes_recebidos=1.4, media_chutes_a_gol=0.3, resultado='vitoria', idx_resultado=2.0), Row(media_faltas_sofridas=5.1, media_faltas_recebidas=3.8, media_cartoes_recebidos=1.6, media_chutes_a_gol=0.2, resultado='vitoria', idx_resultado=2.0), Row(media_faltas_sofridas=4.6, media_faltas_recebidas=3.2, media_cartoes_recebidos=1.4, media_chutes_a_gol=0.2, resultado='vitoria', idx_resultado=2.0), Row(media_faltas_sofridas=5.3, media_faltas_recebidas=3.7, media_cartoes_recebidos=1.5, media_chutes_a_gol=0.2, resultado='vitoria', idx_resultado=2.0), Row(media_faltas_sofridas=5.1, media_faltas_recebidas=3.5, media_cartoes_recebidos=1.4, media_chutes_a_gol=0.2, resultado='vitoria', idx_resultado=2.0)]\n"
     ]
    }
   ],
   "source": [
    "# Criando uma nova coluna com índice numérico para a coluna de label target (alvo)\n",
    "stringIndexer = StringIndexer(inputCol = \"resultado\", outputCol = \"idx_resultado\")\n",
    "\n",
    "# Treinando o string indexer\n",
    "si_model = stringIndexer.fit(df_time)\n",
    "\n",
    "# Aplicando o string indexer\n",
    "df_time_final = si_model.transform(df_time)\n",
    "\n",
    "# Visualiza primeiras linhas\n",
    "print(df_time_final.take(5))"
   ]
  },
  {
   "cell_type": "markdown",
   "id": "83521c50",
   "metadata": {},
   "source": [
    "<br><br><br>\n",
    "\n",
    "# <span style=\"color: green; font-size: 38px; font-weight: bold;\"> Análise Exploratória</span>\n",
    "\n",
    "<br>\n",
    "\n",
    "- Realizando uma nova etapa de <i>Análise Exploratória</i> agora com os dados já <i>tratados</i>.\n",
    "\n",
    "<br>\n",
    "\n",
    "#### Describe"
   ]
  },
  {
   "cell_type": "code",
   "execution_count": 19,
   "id": "a635a408",
   "metadata": {},
   "outputs": [
    {
     "data": {
      "text/html": [
       "<div>\n",
       "<style scoped>\n",
       "    .dataframe tbody tr th:only-of-type {\n",
       "        vertical-align: middle;\n",
       "    }\n",
       "\n",
       "    .dataframe tbody tr th {\n",
       "        vertical-align: top;\n",
       "    }\n",
       "\n",
       "    .dataframe thead th {\n",
       "        text-align: right;\n",
       "    }\n",
       "</style>\n",
       "<table border=\"1\" class=\"dataframe\">\n",
       "  <thead>\n",
       "    <tr style=\"text-align: right;\">\n",
       "      <th></th>\n",
       "      <th>summary</th>\n",
       "      <th>media_faltas_sofridas</th>\n",
       "      <th>media_faltas_recebidas</th>\n",
       "      <th>media_cartoes_recebidos</th>\n",
       "      <th>media_chutes_a_gol</th>\n",
       "      <th>resultado</th>\n",
       "      <th>idx_resultado</th>\n",
       "    </tr>\n",
       "  </thead>\n",
       "  <tbody>\n",
       "    <tr>\n",
       "      <th>0</th>\n",
       "      <td>count</td>\n",
       "      <td>150</td>\n",
       "      <td>150</td>\n",
       "      <td>150</td>\n",
       "      <td>150</td>\n",
       "      <td>150</td>\n",
       "      <td>150</td>\n",
       "    </tr>\n",
       "    <tr>\n",
       "      <th>1</th>\n",
       "      <td>mean</td>\n",
       "      <td>5.843333333333332</td>\n",
       "      <td>3.0573333333333337</td>\n",
       "      <td>3.758000000000001</td>\n",
       "      <td>1.1993333333333331</td>\n",
       "      <td>None</td>\n",
       "      <td>1.0</td>\n",
       "    </tr>\n",
       "    <tr>\n",
       "      <th>2</th>\n",
       "      <td>stddev</td>\n",
       "      <td>0.8280661279778625</td>\n",
       "      <td>0.43586628493669793</td>\n",
       "      <td>1.7652982332594667</td>\n",
       "      <td>0.7622376689603465</td>\n",
       "      <td>None</td>\n",
       "      <td>0.8192319205190404</td>\n",
       "    </tr>\n",
       "    <tr>\n",
       "      <th>3</th>\n",
       "      <td>min</td>\n",
       "      <td>4.3</td>\n",
       "      <td>2.0</td>\n",
       "      <td>1.0</td>\n",
       "      <td>0.1</td>\n",
       "      <td>derrota</td>\n",
       "      <td>0.0</td>\n",
       "    </tr>\n",
       "    <tr>\n",
       "      <th>4</th>\n",
       "      <td>max</td>\n",
       "      <td>7.9</td>\n",
       "      <td>4.4</td>\n",
       "      <td>6.9</td>\n",
       "      <td>2.5</td>\n",
       "      <td>vitoria</td>\n",
       "      <td>2.0</td>\n",
       "    </tr>\n",
       "  </tbody>\n",
       "</table>\n",
       "</div>"
      ],
      "text/plain": [
       "  summary media_faltas_sofridas media_faltas_recebidas  \\\n",
       "0   count                   150                    150   \n",
       "1    mean     5.843333333333332     3.0573333333333337   \n",
       "2  stddev    0.8280661279778625    0.43586628493669793   \n",
       "3     min                   4.3                    2.0   \n",
       "4     max                   7.9                    4.4   \n",
       "\n",
       "  media_cartoes_recebidos  media_chutes_a_gol resultado       idx_resultado  \n",
       "0                     150                 150       150                 150  \n",
       "1       3.758000000000001  1.1993333333333331      None                 1.0  \n",
       "2      1.7652982332594667  0.7622376689603465      None  0.8192319205190404  \n",
       "3                     1.0                 0.1   derrota                 0.0  \n",
       "4                     6.9                 2.5   vitoria                 2.0  "
      ]
     },
     "metadata": {},
     "output_type": "display_data"
    }
   ],
   "source": [
    "# Estatística descritiva\n",
    "summary = df_time_final.describe()\n",
    "\n",
    "# Converte o resumo estatístico para DataFrame Pandas\n",
    "summary_pandas = summary.toPandas()\n",
    "\n",
    "# Configurar Pandas para exibir todas as colunas\n",
    "pd.set_option('display.max_columns', None)\n",
    "\n",
    "# Visualizar o resumo estatístico no formato Pandas\n",
    "display(summary_pandas)"
   ]
  },
  {
   "cell_type": "markdown",
   "id": "957f1c66",
   "metadata": {},
   "source": [
    "<br><br><br>\n",
    "\n",
    "# Verificando Correlação\n",
    "\n",
    "<br>\n",
    "\n",
    "#### Visualizando Através de Números"
   ]
  },
  {
   "cell_type": "code",
   "execution_count": 20,
   "id": "a10ecb3d",
   "metadata": {},
   "outputs": [
    {
     "name": "stdout",
     "output_type": "stream",
     "text": [
      "Correlação da variável idx_resultado com: media_faltas_sofridas -0.4600391565002369\n",
      "Correlação da variável idx_resultado com: media_faltas_recebidas 0.6183715308237437\n",
      "Correlação da variável idx_resultado com: media_cartoes_recebidos -0.649241830764174\n",
      "Correlação da variável idx_resultado com: media_chutes_a_gol -0.5803770334306265\n",
      "Correlação da variável idx_resultado com: idx_resultado 1.0\n"
     ]
    }
   ],
   "source": [
    "# Correlação entre as variáveis\n",
    "for i in df_time_final.columns:\n",
    "    if not(isinstance(df_time_final.select(i).take(1)[0][0], str)) :\n",
    "        print(\"Correlação da variável idx_resultado com:\", i, df_time_final.stat.corr('idx_resultado', i))"
   ]
  },
  {
   "cell_type": "markdown",
   "id": "04af3b52",
   "metadata": {},
   "source": [
    "<br>\n",
    "\n",
    "#### Visualiznado Através de Gráficos"
   ]
  },
  {
   "cell_type": "code",
   "execution_count": 21,
   "id": "6b2bdd96",
   "metadata": {},
   "outputs": [
    {
     "data": {
      "image/png": "[encoded data removed]",
      "text/plain": [
       "<Figure size 864x576 with 1 Axes>"
      ]
     },
     "metadata": {
      "needs_background": "light"
     },
     "output_type": "display_data"
    },
    {
     "data": {
      "image/png": "[encoded data removed]",
      "text/plain": [
       "<Figure size 1152x864 with 2 Axes>"
      ]
     },
     "metadata": {
      "needs_background": "light"
     },
     "output_type": "display_data"
    }
   ],
   "source": [
    "# Correlação entre a variável target (idx_resultado) e as variáveis preditoras\n",
    "correlations = {}\n",
    "for col in df_time_final.columns:\n",
    "    if not(isinstance(df_time_final.select(col).take(1)[0][0], str)):\n",
    "        correlations[col] = df_time_final.stat.corr('idx_resultado', col)\n",
    "\n",
    "# Convertendo o dicionário de correlações para um DataFrame Pandas\n",
    "corr_df = pd.DataFrame(list(correlations.items()), columns=['Variável', 'Correlação'])\n",
    "\n",
    "# Excluir a variável 'idx_resultado' para o gráfico de barras\n",
    "corr_df_barras = corr_df[corr_df['Variável'] != 'idx_resultado'].copy()\n",
    "\n",
    "# Ordenando o DataFrame por correlação absoluta para melhor visualização\n",
    "corr_df_barras['Abs_Correlação'] = corr_df_barras['Correlação'].abs()\n",
    "corr_df_barras = corr_df_barras.sort_values(by='Abs_Correlação', ascending=False).drop(columns='Abs_Correlação')\n",
    "\n",
    "# Criando o gráfico de barras\n",
    "plt.figure(figsize=(12, 8))\n",
    "sns.barplot(x=corr_df_barras['Correlação'], y=corr_df_barras['Variável'], palette='coolwarm')\n",
    "plt.xlabel('Correlação')\n",
    "plt.ylabel('Variável')\n",
    "plt.title('Correlação entre Resultado e Variáveis Preditivas')\n",
    "plt.grid(True)\n",
    "plt.show()\n",
    "\n",
    "# Criação do heatmap da matriz de correlação incluindo a variável 'idx_resultado'\n",
    "corr_matrix = pd.DataFrame(list(correlations.items()), columns=['Variável', 'Correlação']).set_index('Variável').T\n",
    "\n",
    "plt.figure(figsize=(16, 12))\n",
    "heatmap = sns.heatmap(corr_matrix, annot=True, fmt=\".2f\", cmap='coolwarm', vmin=-1, vmax=1, cbar=True, square=True, annot_kws={\"size\": 10})\n",
    "heatmap.set_xticklabels(heatmap.get_xticklabels(), rotation=45, horizontalalignment='right', fontsize=12)\n",
    "heatmap.set_yticklabels(heatmap.get_yticklabels(), rotation=0, fontsize=12)\n",
    "plt.title('Mapa de Calor das Correlações', fontsize=18)\n",
    "plt.tight_layout()\n",
    "plt.show()"
   ]
  },
  {
   "cell_type": "markdown",
   "id": "b61b565b",
   "metadata": {},
   "source": [
    "<br><br><br>\n",
    "\n",
    "# <span style=\"color: green; font-size: 38px; font-weight: bold;\">Engenharia de Atributos</span>\n",
    "\n",
    "<br>\n",
    "\n",
    "- Nesta etapa vamos remover a coluna **resultado**.\n",
    "- Nesta etapa também aplicaremos a **técnica de Vetores Densos** para a criação dos vetores de características.\n",
    "> (<i>Os vetores densos são mais eficientes e apropriados quando a maioria dos valores são diferentes de zero</i>).\n",
    "\n",
    "<br>\n",
    "\n",
    "#### Aplicando Vector Dense e Convertendo para Objeto RDD"
   ]
  },
  {
   "cell_type": "code",
   "execution_count": 22,
   "id": "1f70e584",
   "metadata": {},
   "outputs": [
    {
     "data": {
      "text/plain": [
       "[('vitoria', 2.0, DenseVector([4.8, 3.0, 1.4, 0.3])),\n",
       " ('vitoria', 2.0, DenseVector([5.1, 3.8, 1.6, 0.2])),\n",
       " ('vitoria', 2.0, DenseVector([4.6, 3.2, 1.4, 0.2])),\n",
       " ('vitoria', 2.0, DenseVector([5.3, 3.7, 1.5, 0.2])),\n",
       " ('vitoria', 2.0, DenseVector([5.1, 3.5, 1.4, 0.2]))]"
      ]
     },
     "execution_count": 22,
     "metadata": {},
     "output_type": "execute_result"
    }
   ],
   "source": [
    "# Criando um LabeledPoint (target, Vector[features])\n",
    "\n",
    "# Remove colunas não relevantes para o modelo ou com baixa correlação (removendo coluna resultado)\n",
    "def transformaVar(row) :\n",
    "    obj = (row[\"resultado\"], row[\"idx_resultado\"], Vectors.dense([row[\"media_faltas_sofridas\"], \n",
    "                                                                  row[\"media_faltas_recebidas\"],\n",
    "                                                                  row[\"media_cartoes_recebidos\"], \n",
    "                                                                  row[\"media_chutes_a_gol\"]]))\n",
    "    return obj\n",
    "\n",
    "# Aplica a função e Converte para Objeto RDD\n",
    "df_time_final_RDD = df_time_final.rdd.map(transformaVar)\n",
    "\n",
    "# Verifica Primeiras Linhas\n",
    "df_time_final_RDD.take(5)"
   ]
  },
  {
   "cell_type": "markdown",
   "id": "d6505587",
   "metadata": {},
   "source": [
    "<br>\n",
    "\n",
    "# Convertendo Para Objeto Dataframe PySpark\n",
    "\n",
    "- Transformar o RDD em um DataFrame do PySpark para facilitar a aplicação de técnicas de Machine Learning.\n",
    "\n",
    "> Essa conversão é essencial para utilizar os métodos e algoritmos de Machine Learning disponíveis no PySpark.\n",
    "\n",
    "#### Estrutura do DataFrame\n",
    "\n",
    "- **resultado**: A variável original de resultado em formato string (vitoria, empate, derrota).\n",
    "- **label**: A variável alvo numérica resultante do Label Encoding aplicado à coluna \"resultado\".\n",
    "- **features**: Um vetor denso contendo as variáveis preditoras (media_faltas_sofridas, media_faltas_recebidas, media_cartoes_recebidos, media_chutes_a_gol).\n",
    "\n",
    "#### Nota sobre o nome 'label':\n",
    "\n",
    "> Não é obrigatório usar o nome **'label'** para a variável alvo. No entanto, 'label' é uma convenção comum, especialmente quando se utiliza as bibliotecas de Machine Learning do PySpark, que esperam encontrar uma coluna com este nome por padrão. Utilizar 'label' facilita a integração e aplicação de modelos predefinidos no PySpark.\n",
    "\n",
    "<br>\n",
    "\n",
    "#### Converte o objeto RDD para um DataFrame do Spark"
   ]
  },
  {
   "cell_type": "code",
   "execution_count": 24,
   "id": "8e5317e3",
   "metadata": {},
   "outputs": [
    {
     "data": {
      "text/plain": [
       "DataFrame[resultado: string, label: double, features: vector]"
      ]
     },
     "execution_count": 24,
     "metadata": {},
     "output_type": "execute_result"
    }
   ],
   "source": [
    "# Converte o RDD para DataFrame\n",
    "df_spark = spSession.createDataFrame(df_time_final_RDD,[\"resultado\", \"label\", \"features\"])\n",
    "\n",
    "df_spark.cache()"
   ]
  },
  {
   "cell_type": "code",
   "execution_count": 25,
   "id": "62073860",
   "metadata": {},
   "outputs": [
    {
     "name": "stdout",
     "output_type": "stream",
     "text": [
      "+---------+-----+-----------------+\n",
      "|resultado|label|         features|\n",
      "+---------+-----+-----------------+\n",
      "|  vitoria|  2.0|[4.8,3.0,1.4,0.3]|\n",
      "|  vitoria|  2.0|[5.1,3.8,1.6,0.2]|\n",
      "|  vitoria|  2.0|[4.6,3.2,1.4,0.2]|\n",
      "|  vitoria|  2.0|[5.3,3.7,1.5,0.2]|\n",
      "|  vitoria|  2.0|[5.1,3.5,1.4,0.2]|\n",
      "+---------+-----+-----------------+\n",
      "only showing top 5 rows\n",
      "\n"
     ]
    }
   ],
   "source": [
    "# Visualiza primeiras linhas\n",
    "df_spark.select(\"resultado\", \"label\", \"features\").show(5)"
   ]
  },
  {
   "cell_type": "markdown",
   "id": "3afb56ad",
   "metadata": {},
   "source": [
    "<br><br><br><br>\n",
    "\n",
    "# Pré-Processamento de Dados Para Construção de Modelos de Machine Learning\n",
    "\n",
    "<br><br>\n",
    "\n",
    "\n",
    "## Dividindo os dados em Dados de Treino e Dados de Teste\n",
    "- Nós **treinamos** o modelo com **dados de treino** e **avaliamos** o modelo com **dados de teste**.\n",
    "\n",
    "<br>"
   ]
  },
  {
   "cell_type": "code",
   "execution_count": 27,
   "id": "60617a1a",
   "metadata": {},
   "outputs": [
    {
     "name": "stdout",
     "output_type": "stream",
     "text": [
      "119\n",
      "31\n"
     ]
    }
   ],
   "source": [
    "# Divisão em dados de treino e teste\n",
    "dados_treino, dados_teste = df_spark.randomSplit([.75,.25], seed = rnd_seed)\n",
    "\n",
    "print(dados_treino.count())\n",
    "print(dados_teste.count())"
   ]
  },
  {
   "cell_type": "markdown",
   "id": "d75cb202",
   "metadata": {},
   "source": [
    "<br><br><br><br><br>\n",
    "\n",
    "<span style=\"color: green; font-size: 40px; font-weight: bold;\">Construindo Modelos de Machine Learning</span>\n",
    "\n",
    "<br>\n",
    "\n",
    "- Nesta etapa do projeto o ideal é escolher um algoritmo simples e fácil de compreender, que será usado como Benchmark (modelo base).\n",
    "\n",
    "#### Importante\n",
    "\n",
    "- Iremos treinar dois conjuntos de dados: um **conjunto de dados sem tratamento de escala** e outro **com tratamento de escala**.\n",
    "\n",
    "<br><br><br>\n",
    "\n",
    "## Criando Dataframe para salvar métricas de cada Modelo"
   ]
  },
  {
   "cell_type": "code",
   "execution_count": 28,
   "id": "5a6f8aa5",
   "metadata": {},
   "outputs": [],
   "source": [
    "# Cria um dataframe para receber as métricas de cada modelo\n",
    "df_modelos = pd.DataFrame()"
   ]
  },
  {
   "cell_type": "markdown",
   "id": "7d9275f4",
   "metadata": {},
   "source": [
    "<br><br><br>\n",
    "\n",
    "# <span style=\"color: green; font-weight: bold;\">Modelo 1 com Regressão Logística (Benchmark)</span>\n",
    "\n",
    "<br>\n",
    "\n",
    "> # Versão 1\n",
    "\n",
    "- Sem Ajuste de Hiperparâmetros\n",
    "\n",
    "\n",
    "<br>\n",
    "\n",
    "### Criação, Treinamento, Previsão e Avaliação do Modelo"
   ]
  },
  {
   "cell_type": "code",
   "execution_count": 35,
   "id": "76f4a474",
   "metadata": {},
   "outputs": [
    {
     "name": "stdout",
     "output_type": "stream",
     "text": [
      "Acurácia: 1.0000\n",
      "Precisão: 1.0000\n",
      "Recall: 1.0000\n",
      "F1-Score: 1.0000\n",
      "\n",
      "---------------------------------------------------------------------------------------------------\n",
      "\n"
     ]
    },
    {
     "data": {
      "text/html": [
       "<div>\n",
       "<style scoped>\n",
       "    .dataframe tbody tr th:only-of-type {\n",
       "        vertical-align: middle;\n",
       "    }\n",
       "\n",
       "    .dataframe tbody tr th {\n",
       "        vertical-align: top;\n",
       "    }\n",
       "\n",
       "    .dataframe thead th {\n",
       "        text-align: right;\n",
       "    }\n",
       "</style>\n",
       "<table border=\"1\" class=\"dataframe\">\n",
       "  <thead>\n",
       "    <tr style=\"text-align: right;\">\n",
       "      <th></th>\n",
       "      <th>Nome do Modelo</th>\n",
       "      <th>Versao</th>\n",
       "      <th>Tipo de Dados</th>\n",
       "      <th>Tipo de Modelo</th>\n",
       "      <th>Acurácia</th>\n",
       "      <th>Precisão</th>\n",
       "      <th>Recall</th>\n",
       "      <th>F1-Score</th>\n",
       "    </tr>\n",
       "  </thead>\n",
       "  <tbody>\n",
       "    <tr>\n",
       "      <th>0</th>\n",
       "      <td>Regressão Logística</td>\n",
       "      <td>1</td>\n",
       "      <td>Original</td>\n",
       "      <td>Sem Ajuste de Hiperparâmetros</td>\n",
       "      <td>1.0000</td>\n",
       "      <td>1.0000</td>\n",
       "      <td>1.0000</td>\n",
       "      <td>1.0000</td>\n",
       "    </tr>\n",
       "  </tbody>\n",
       "</table>\n",
       "</div>"
      ],
      "text/plain": [
       "        Nome do Modelo Versao Tipo de Dados                 Tipo de Modelo  \\\n",
       "0  Regressão Logística      1      Original  Sem Ajuste de Hiperparâmetros   \n",
       "\n",
       "  Acurácia Precisão  Recall F1-Score  \n",
       "0   1.0000   1.0000  1.0000   1.0000  "
      ]
     },
     "metadata": {},
     "output_type": "display_data"
    },
    {
     "name": "stdout",
     "output_type": "stream",
     "text": [
      "\n",
      "\n",
      "\n"
     ]
    }
   ],
   "source": [
    "## Criação e Treinamento do Modelo\n",
    "\n",
    "# Criar o modelo de regressão logística\n",
    "from pyspark.ml.classification import LogisticRegression\n",
    "from pyspark.ml.evaluation import MulticlassClassificationEvaluator\n",
    "\n",
    "lr = LogisticRegression(labelCol=\"label\", featuresCol=\"features\", maxIter=10)\n",
    "\n",
    "# Treinar o modelo com os dados de treino\n",
    "lr_model = lr.fit(dados_treino)\n",
    "\n",
    "## Previsão\n",
    "\n",
    "# Realizar previsões com os dados de teste\n",
    "predictions = lr_model.transform(dados_teste)\n",
    "\n",
    "## Avaliação\n",
    "\n",
    "# Avaliar o modelo\n",
    "evaluator = MulticlassClassificationEvaluator(labelCol=\"label\", predictionCol=\"prediction\")\n",
    "\n",
    "accuracy = evaluator.evaluate(predictions, {evaluator.metricName: \"accuracy\"})\n",
    "precision = evaluator.evaluate(predictions, {evaluator.metricName: \"weightedPrecision\"})\n",
    "recall = evaluator.evaluate(predictions, {evaluator.metricName: \"weightedRecall\"})\n",
    "f1 = evaluator.evaluate(predictions, {evaluator.metricName: \"f1\"})\n",
    "\n",
    "# Print the metrics\n",
    "print(f\"Acurácia: {accuracy:.4f}\")\n",
    "print(f\"Precisão: {precision:.4f}\")\n",
    "print(f\"Recall: {recall:.4f}\")\n",
    "print(f\"F1-Score: {f1:.4f}\")\n",
    "\n",
    "print('\\n---------------------------------------------------------------------------------------------------\\n')\n",
    "\n",
    "# Criar um DataFrame para salvar as métricas\n",
    "modelo_v1_metrics = pd.DataFrame({\n",
    "    'Nome do Modelo': ['Regressão Logística'],\n",
    "    'Versao': ['1'],\n",
    "    'Tipo de Dados': ['Original'],\n",
    "    'Tipo de Modelo': ['Sem Ajuste de Hiperparâmetros'], \n",
    "    'Acurácia': [f\"{accuracy:.4f}\"],\n",
    "    'Precisão': [f\"{precision:.4f}\"],\n",
    "    'Recall': [f\"{recall:.4f}\"],\n",
    "    'F1-Score': [f\"{f1:.4f}\"]\n",
    "})\n",
    "\n",
    "# Concatenando com o DataFrame existente\n",
    "df_modelos = pd.concat([df_modelos, modelo_v1_metrics], ignore_index=True)\n",
    "\n",
    "# Visualizando DataFrame\n",
    "display(df_modelos)\n",
    "print('\\n\\n')"
   ]
  },
  {
   "cell_type": "markdown",
   "id": "aa63e07c",
   "metadata": {},
   "source": [
    "<br><br><br>\n",
    "\n",
    "# <span style=\"color: green; font-weight: bold;\">Modelo 2 com DecisionTreeClassifier</span>\n",
    "\n",
    "<br>\n",
    "\n",
    "> # Versão 1\n",
    "\n",
    "- Sem Ajuste de Hiperparâmetros\n",
    "\n",
    "\n",
    "<br>\n",
    "\n",
    "### Criação, Treinamento, Previsão e Avaliação do Modelo"
   ]
  },
  {
   "cell_type": "code",
   "execution_count": 36,
   "id": "3bb85856",
   "metadata": {},
   "outputs": [
    {
     "name": "stdout",
     "output_type": "stream",
     "text": [
      "Acurácia: 1.0000\n",
      "Precisão: 1.0000\n",
      "Recall: 1.0000\n",
      "F1-Score: 1.0000\n",
      "\n",
      "---------------------------------------------------------------------------------------------------\n",
      "\n"
     ]
    },
    {
     "data": {
      "text/html": [
       "<div>\n",
       "<style scoped>\n",
       "    .dataframe tbody tr th:only-of-type {\n",
       "        vertical-align: middle;\n",
       "    }\n",
       "\n",
       "    .dataframe tbody tr th {\n",
       "        vertical-align: top;\n",
       "    }\n",
       "\n",
       "    .dataframe thead th {\n",
       "        text-align: right;\n",
       "    }\n",
       "</style>\n",
       "<table border=\"1\" class=\"dataframe\">\n",
       "  <thead>\n",
       "    <tr style=\"text-align: right;\">\n",
       "      <th></th>\n",
       "      <th>Nome do Modelo</th>\n",
       "      <th>Versao</th>\n",
       "      <th>Tipo de Dados</th>\n",
       "      <th>Tipo de Modelo</th>\n",
       "      <th>Acurácia</th>\n",
       "      <th>Precisão</th>\n",
       "      <th>Recall</th>\n",
       "      <th>F1-Score</th>\n",
       "    </tr>\n",
       "  </thead>\n",
       "  <tbody>\n",
       "    <tr>\n",
       "      <th>0</th>\n",
       "      <td>Regressão Logística</td>\n",
       "      <td>1</td>\n",
       "      <td>Original</td>\n",
       "      <td>Sem Ajuste de Hiperparâmetros</td>\n",
       "      <td>1.0000</td>\n",
       "      <td>1.0000</td>\n",
       "      <td>1.0000</td>\n",
       "      <td>1.0000</td>\n",
       "    </tr>\n",
       "    <tr>\n",
       "      <th>1</th>\n",
       "      <td>Árvore de Decisão</td>\n",
       "      <td>1</td>\n",
       "      <td>Original</td>\n",
       "      <td>Sem Ajuste de Hiperparâmetros</td>\n",
       "      <td>1.0000</td>\n",
       "      <td>1.0000</td>\n",
       "      <td>1.0000</td>\n",
       "      <td>1.0000</td>\n",
       "    </tr>\n",
       "  </tbody>\n",
       "</table>\n",
       "</div>"
      ],
      "text/plain": [
       "        Nome do Modelo Versao Tipo de Dados                 Tipo de Modelo  \\\n",
       "0  Regressão Logística      1      Original  Sem Ajuste de Hiperparâmetros   \n",
       "1    Árvore de Decisão      1      Original  Sem Ajuste de Hiperparâmetros   \n",
       "\n",
       "  Acurácia Precisão  Recall F1-Score  \n",
       "0   1.0000   1.0000  1.0000   1.0000  \n",
       "1   1.0000   1.0000  1.0000   1.0000  "
      ]
     },
     "metadata": {},
     "output_type": "display_data"
    },
    {
     "name": "stdout",
     "output_type": "stream",
     "text": [
      "\n",
      "\n",
      "\n"
     ]
    }
   ],
   "source": [
    "from pyspark.ml.classification import DecisionTreeClassifier\n",
    "from pyspark.ml.evaluation import MulticlassClassificationEvaluator\n",
    "\n",
    "## Criação e Treinamento do Modelo\n",
    "\n",
    "# Criar o modelo de árvore de decisão\n",
    "dt = DecisionTreeClassifier(labelCol=\"label\", featuresCol=\"features\")\n",
    "\n",
    "# Treinar o modelo com os dados de treino\n",
    "dt_model = dt.fit(dados_treino)\n",
    "\n",
    "## Previsão\n",
    "\n",
    "# Realizar previsões com os dados de teste\n",
    "predictions = dt_model.transform(dados_teste)\n",
    "\n",
    "\n",
    "## Avaliação\n",
    "\n",
    "# Avaliar o modelo\n",
    "evaluator = MulticlassClassificationEvaluator(labelCol=\"label\", predictionCol=\"prediction\")\n",
    "\n",
    "accuracy = evaluator.evaluate(predictions, {evaluator.metricName: \"accuracy\"})\n",
    "precision = evaluator.evaluate(predictions, {evaluator.metricName: \"weightedPrecision\"})\n",
    "recall = evaluator.evaluate(predictions, {evaluator.metricName: \"weightedRecall\"})\n",
    "f1 = evaluator.evaluate(predictions, {evaluator.metricName: \"f1\"})\n",
    "\n",
    "# Exibir as métricas\n",
    "print(f\"Acurácia: {accuracy:.4f}\")\n",
    "print(f\"Precisão: {precision:.4f}\")\n",
    "print(f\"Recall: {recall:.4f}\")\n",
    "print(f\"F1-Score: {f1:.4f}\")\n",
    "\n",
    "print('\\n---------------------------------------------------------------------------------------------------\\n')\n",
    "\n",
    "# Criar um DataFrame para salvar as métricas\n",
    "modelo_v2_metrics = pd.DataFrame({\n",
    "    'Nome do Modelo': ['Árvore de Decisão'],\n",
    "    'Versao': ['1'],\n",
    "    'Tipo de Dados': ['Original'],\n",
    "    'Tipo de Modelo': ['Sem Ajuste de Hiperparâmetros'], \n",
    "    'Acurácia': [f\"{accuracy:.4f}\"],\n",
    "    'Precisão': [f\"{precision:.4f}\"],\n",
    "    'Recall': [f\"{recall:.4f}\"],\n",
    "    'F1-Score': [f\"{f1:.4f}\"]\n",
    "})\n",
    "\n",
    "# Concatenando com o DataFrame existente\n",
    "df_modelos = pd.concat([df_modelos, modelo_v2_metrics], ignore_index=True)\n",
    "\n",
    "# Visualizando DataFrame\n",
    "display(df_modelos)\n",
    "print('\\n\\n')"
   ]
  },
  {
   "cell_type": "markdown",
   "id": "48b4c996",
   "metadata": {},
   "source": [
    "<br><br><br>\n",
    "\n",
    "# <span style=\"color: green; font-weight: bold;\">Modelo 3 com RandomForestClassifier</span>\n",
    "\n",
    "<br>\n",
    "\n",
    "> # Versão 1\n",
    "\n",
    "- Sem Ajuste de Hiperparâmetros\n",
    "\n",
    "\n",
    "<br>\n",
    "\n",
    "### Criação, Treinamento, Previsão e Avaliação do Modelo"
   ]
  },
  {
   "cell_type": "code",
   "execution_count": 44,
   "id": "a845e5b6",
   "metadata": {},
   "outputs": [
    {
     "name": "stdout",
     "output_type": "stream",
     "text": [
      "Acurácia: 1.0000\n",
      "Precisão: 1.0000\n",
      "Recall: 1.0000\n",
      "F1-Score: 1.0000\n",
      "\n",
      "---------------------------------------------------------------------------------------------------\n",
      "\n"
     ]
    },
    {
     "data": {
      "text/html": [
       "<div>\n",
       "<style scoped>\n",
       "    .dataframe tbody tr th:only-of-type {\n",
       "        vertical-align: middle;\n",
       "    }\n",
       "\n",
       "    .dataframe tbody tr th {\n",
       "        vertical-align: top;\n",
       "    }\n",
       "\n",
       "    .dataframe thead th {\n",
       "        text-align: right;\n",
       "    }\n",
       "</style>\n",
       "<table border=\"1\" class=\"dataframe\">\n",
       "  <thead>\n",
       "    <tr style=\"text-align: right;\">\n",
       "      <th></th>\n",
       "      <th>Nome do Modelo</th>\n",
       "      <th>Versao</th>\n",
       "      <th>Tipo de Dados</th>\n",
       "      <th>Tipo de Modelo</th>\n",
       "      <th>Acurácia</th>\n",
       "      <th>Precisão</th>\n",
       "      <th>Recall</th>\n",
       "      <th>F1-Score</th>\n",
       "    </tr>\n",
       "  </thead>\n",
       "  <tbody>\n",
       "    <tr>\n",
       "      <th>0</th>\n",
       "      <td>Regressão Logística</td>\n",
       "      <td>1</td>\n",
       "      <td>Original</td>\n",
       "      <td>Sem Ajuste de Hiperparâmetros</td>\n",
       "      <td>1.0000</td>\n",
       "      <td>1.0000</td>\n",
       "      <td>1.0000</td>\n",
       "      <td>1.0000</td>\n",
       "    </tr>\n",
       "    <tr>\n",
       "      <th>1</th>\n",
       "      <td>Árvore de Decisão</td>\n",
       "      <td>1</td>\n",
       "      <td>Original</td>\n",
       "      <td>Sem Ajuste de Hiperparâmetros</td>\n",
       "      <td>1.0000</td>\n",
       "      <td>1.0000</td>\n",
       "      <td>1.0000</td>\n",
       "      <td>1.0000</td>\n",
       "    </tr>\n",
       "    <tr>\n",
       "      <th>2</th>\n",
       "      <td>Random Forest</td>\n",
       "      <td>1</td>\n",
       "      <td>Original</td>\n",
       "      <td>Sem Ajuste de Hiperparâmetros</td>\n",
       "      <td>1.0000</td>\n",
       "      <td>1.0000</td>\n",
       "      <td>1.0000</td>\n",
       "      <td>1.0000</td>\n",
       "    </tr>\n",
       "  </tbody>\n",
       "</table>\n",
       "</div>"
      ],
      "text/plain": [
       "        Nome do Modelo Versao Tipo de Dados                 Tipo de Modelo  \\\n",
       "0  Regressão Logística      1      Original  Sem Ajuste de Hiperparâmetros   \n",
       "1    Árvore de Decisão      1      Original  Sem Ajuste de Hiperparâmetros   \n",
       "2        Random Forest      1      Original  Sem Ajuste de Hiperparâmetros   \n",
       "\n",
       "  Acurácia Precisão  Recall F1-Score  \n",
       "0   1.0000   1.0000  1.0000   1.0000  \n",
       "1   1.0000   1.0000  1.0000   1.0000  \n",
       "2   1.0000   1.0000  1.0000   1.0000  "
      ]
     },
     "metadata": {},
     "output_type": "display_data"
    },
    {
     "name": "stdout",
     "output_type": "stream",
     "text": [
      "\n",
      "\n",
      "\n"
     ]
    }
   ],
   "source": [
    "# Importando as bibliotecas necessárias\n",
    "from pyspark.ml.classification import RandomForestClassifier\n",
    "from pyspark.ml.evaluation import MulticlassClassificationEvaluator\n",
    "\n",
    "## Criação e Treinamento do Modelo\n",
    "\n",
    "# Criar o modelo de Random Forest\n",
    "rf = RandomForestClassifier(labelCol=\"label\", featuresCol=\"features\")\n",
    "\n",
    "# Treinar o modelo com os dados de treino\n",
    "rf_model = rf.fit(dados_treino)\n",
    "\n",
    "## Previsão\n",
    "\n",
    "# Realizar previsões com os dados de teste\n",
    "predictions = rf_model.transform(dados_teste)\n",
    "\n",
    "## Avaliação\n",
    "\n",
    "# Avaliar o modelo\n",
    "evaluator = MulticlassClassificationEvaluator(labelCol=\"label\", predictionCol=\"prediction\")\n",
    "\n",
    "accuracy = evaluator.evaluate(predictions, {evaluator.metricName: \"accuracy\"})\n",
    "precision = evaluator.evaluate(predictions, {evaluator.metricName: \"weightedPrecision\"})\n",
    "recall = evaluator.evaluate(predictions, {evaluator.metricName: \"weightedRecall\"})\n",
    "f1 = evaluator.evaluate(predictions, {evaluator.metricName: \"f1\"})\n",
    "\n",
    "# Exibir as métricas\n",
    "print(f\"Acurácia: {accuracy:.4f}\")\n",
    "print(f\"Precisão: {precision:.4f}\")\n",
    "print(f\"Recall: {recall:.4f}\")\n",
    "print(f\"F1-Score: {f1:.4f}\")\n",
    "\n",
    "print('\\n---------------------------------------------------------------------------------------------------\\n')\n",
    "\n",
    "# Criar um DataFrame para salvar as métricas\n",
    "modelo_v3_metrics = pd.DataFrame({\n",
    "    'Nome do Modelo': ['Random Forest'],\n",
    "    'Versao': ['1'],\n",
    "    'Tipo de Dados': ['Original'],\n",
    "    'Tipo de Modelo': ['Sem Ajuste de Hiperparâmetros'], \n",
    "    'Acurácia': [f\"{accuracy:.4f}\"],\n",
    "    'Precisão': [f\"{precision:.4f}\"],\n",
    "    'Recall': [f\"{recall:.4f}\"],\n",
    "    'F1-Score': [f\"{f1:.4f}\"]\n",
    "})\n",
    "\n",
    "# Concatenando com o DataFrame existente\n",
    "df_modelos = pd.concat([df_modelos, modelo_v3_metrics], ignore_index=True)\n",
    "\n",
    "# Visualizando DataFrame\n",
    "display(df_modelos)\n",
    "print('\\n\\n')"
   ]
  },
  {
   "cell_type": "markdown",
   "id": "4fa22a52",
   "metadata": {},
   "source": [
    "<br><br><br>\n",
    "\n",
    "# Fim!"
   ]
  }
 ],
 "metadata": {
  "kernelspec": {
   "display_name": "Python 3 (ipykernel)",
   "language": "python",
   "name": "python3"
  },
  "language_info": {
   "codemirror_mode": {
    "name": "ipython",
    "version": 3
   },
   "file_extension": ".py",
   "mimetype": "text/x-python",
   "name": "python",
   "nbconvert_exporter": "python",
   "pygments_lexer": "ipython3",
   "version": "3.9.7"
  }
 },
 "nbformat": 4,
 "nbformat_minor": 5
}
