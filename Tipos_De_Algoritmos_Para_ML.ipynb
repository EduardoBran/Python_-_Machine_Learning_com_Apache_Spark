{
 "cells": [
  {
   "cell_type": "code",
   "execution_count": null,
   "id": "5d00c4d5-31e4-4c5a-a840-94be8953bdf0",
   "metadata": {},
   "outputs": [],
   "source": []
  }
 ],
 "metadata": {
  "kernelspec": {
   "display_name": "",
   "name": ""
  },
  "language_info": {
   "name": ""
  }
 },
 "nbformat": 4,
 "nbformat_minor": 5
}
